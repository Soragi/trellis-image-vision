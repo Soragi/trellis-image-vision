{
  "cells": [
    {
      "cell_type": "markdown",
      "metadata": {},
      "source": [
        "# 🎨 Trellis NIM - Simple Deployment & Inference\n",
        "\n",
        "A streamlined notebook for deploying NVIDIA Trellis NIM and generating 3D models from text prompts.\n",
        "\n",
        "## Steps:\n",
        "1. **GPU Check** - Verify L40s GPU availability\n",
        "2. **Deploy NIM** - Run the Trellis NIM container\n",
        "3. **Generate 3D Models** - Simple prompt-based generation\n",
        "\n",
        "---\n"
      ]
    },
    {
      "cell_type": "markdown",
      "metadata": {},
      "source": [
        "## Step 1: Check GPU Availability\n",
        "\n",
        "Verify that we have access to an L40s GPU:\n"
      ]
    },
    {
      "cell_type": "code",
      "execution_count": null,
      "metadata": {},
      "outputs": [],
      "source": [
        "!nvidia-smi\n"
      ]
    },
    {
      "cell_type": "markdown",
      "metadata": {},
      "source": [
        "## Step 2: Deploy Trellis NIM Container\n",
        "\n",
        "**⚠️ IMPORTANT**: Replace `<PASTE_API_KEY_HERE>` with your actual NGC API key from https://ngc.nvidia.com/setup/api-key\n"
      ]
    },
    {
      "cell_type": "code",
      "execution_count": null,
      "metadata": {},
      "outputs": [],
      "source": [
        "# Set your NGC API key here\n",
        "import os\n",
        "os.environ['NGC_API_KEY'] = '<PASTE_API_KEY_HERE>'  # Replace with your actual API key\n",
        "\n",
        "# Verify the API key is set\n",
        "if os.environ['NGC_API_KEY'] == '<PASTE_API_KEY_HERE>':\n",
        "    print('❌ Please replace <PASTE_API_KEY_HERE> with your actual NGC API key!')\n",
        "else:\n",
        "    print('✅ NGC API key is set')\n"
      ]
    },
    {
      "cell_type": "code",
      "execution_count": null,
      "metadata": {},
      "outputs": [],
      "source": [
        "# Docker login to NGC registry\n",
        "!echo \"$NGC_API_KEY\" | docker login nvcr.io --username '$oauthtoken' --password-stdin\n"
      ]
    },
    {
      "cell_type": "code",
      "execution_count": null,
      "metadata": {},
      "outputs": [],
      "source": [
        "# Create cache directory\n",
        "!mkdir -p ~/.cache/nim\n",
        "!chmod 777 ~/.cache/nim\n",
        "!echo \"Cache directory created at: ~/.cache/nim\"\n"
      ]
    },
    {
      "cell_type": "code",
      "execution_count": null,
      "metadata": {},
      "outputs": [],
      "source": [
        "# Start Trellis NIM container (this will run in the background)\n",
        "# Note: This may take several minutes to download and start the first time\n",
        "\n",
        "!docker run -d --name=nim-server \\\n",
        "  --runtime=nvidia --gpus='\"device=0\"' \\\n",
        "  -e NGC_API_KEY=$NGC_API_KEY \\\n",
        "  -p 8000:8000 \\\n",
        "  -v ~/.cache/nim:/opt/nim/.cache/ \\\n",
        "  nvcr.io/nim/microsoft/trellis:latest\n",
        "\n",
        "print('🚀 Trellis NIM container started!')\n",
        "print('⏳ Please wait 2-5 minutes for the container to fully initialize...')\n"
      ]
    },
    {
      "cell_type": "code",
      "execution_count": null,
      "metadata": {},
      "outputs": [],
      "source": [
        "# Check container status\n",
        "!docker ps | grep nim-server\n",
        "!echo \"\\n📊 Container logs (last 10 lines):\"\n",
        "!docker logs nim-server --tail 10\n"
      ]
    },
    {
      "cell_type": "markdown",
      "metadata": {},
      "source": [
        "## Step 3: Generate 3D Models\n",
        "\n",
        "Now you can generate 3D models by simply changing the prompt below and running the cell:\n"
      ]
    },
    {
      "cell_type": "code",
      "execution_count": null,
      "metadata": {},
      "outputs": [],
      "source": [
        "# 🎯 CHANGE THIS PROMPT TO GENERATE DIFFERENT 3D MODELS\n",
        "PROMPT = \"A simple coffee shop interior\"\n",
        "\n",
        "# Optional: Change the seed for different variations (0 = random)\n",
        "SEED = 0\n",
        "\n",
        "# Optional: Change output filename\n",
        "OUTPUT_FILE = \"result.glb\"\n",
        "\n",
        "print(f\"🎨 Generating 3D model for: '{PROMPT}'\")\n",
        "print(f\"💾 Output file: {OUTPUT_FILE}\")\n",
        "print(f\"🎲 Seed: {SEED}\")\n",
        "print(\"⏳ Please wait...\")\n"
      ]
    },
    {
      "cell_type": "code",
      "execution_count": null,
      "metadata": {},
      "outputs": [],
      "source": [
        "# Generate the 3D model\n",
        "import json\n",
        "import subprocess\n",
        "import base64\n",
        "\n",
        "# Prepare the curl command\n",
        "curl_data = {\n",
        "    \"prompt\": PROMPT,\n",
        "    \"seed\": SEED\n",
        "}\n",
        "\n",
        "curl_command = f'''\n",
        "curl -X POST http://localhost:8000/v1/infer \\\\\n",
        "    -H \"Accept: application/json\" \\\\\n",
        "    -H \"Content-Type: application/json\" \\\\\n",
        "    -d '{json.dumps(curl_data)}'\n",
        "'''\n",
        "\n",
        "print(\"📡 Sending request to Trellis NIM...\")\n",
        "result = !{curl_command}\n",
        "\n",
        "# Parse the response\n",
        "if result:\n",
        "    response_text = ' '.join(result)\n",
        "    print(f\"📨 Raw response: {response_text[:200]}...\")\n",
        "    \n",
        "    try:\n",
        "        # Extract JSON part\n",
        "        json_start = response_text.find('{')\n",
        "        if json_start != -1:\n",
        "            json_part = response_text[json_start:]\n",
        "            response_data = json.loads(json_part)\n",
        "            \n",
        "            if 'artifacts' in response_data and len(response_data['artifacts']) > 0:\n",
        "                base64_data = response_data['artifacts'][0]['base64']\n",
        "                \n",
        "                # Decode and save the GLB file\n",
        "                glb_data = base64.b64decode(base64_data)\n",
        "                \n",
        "                with open(OUTPUT_FILE, 'wb') as f:\n",
        "                    f.write(glb_data)\n",
        "                \n",
        "                print(f\"✅ SUCCESS! 3D model saved as: {OUTPUT_FILE}\")\n",
        "                print(f\"📊 File size: {len(glb_data) / 1024:.2f} KB\")\n",
        "                print(f\"🎯 You can now open {OUTPUT_FILE} in any 3D viewer or Blender!\")\n",
        "            else:\n",
        "                print(\"❌ No artifacts found in response\")\n",
        "                print(f\"Response data: {response_data}\")\n",
        "        else:\n",
        "            print(\"❌ Invalid JSON response\")\n",
        "    except Exception as e:\n",
        "        print(f\"❌ Error processing response: {e}\")\n",
        "        print(f\"Raw response: {response_text}\")\n",
        "else:\n",
        "    print(\"❌ No response received\")\n"
      ]
    },
    {
      "cell_type": "markdown",
      "metadata": {},
      "source": [
        "## 🎉 That's it!\n",
        "\n",
        "### To generate more 3D models:\n",
        "1. Go back to the cell above with `PROMPT = \"...\"`\n",
        "2. Change the prompt to whatever you want\n",
        "3. Run both cells again\n",
        "\n",
        "### Example prompts to try:\n",
        "- `\"A modern chair\"`\n",
        "- `\"A futuristic car\"`\n",
        "- `\"A wooden table\"`\n",
        "- `\"A cozy bedroom\"`\n",
        "- `\"A space station interior\"`\n",
        "\n",
        "### Useful commands:\n"
      ]
    },
    {
      "cell_type": "code",
      "execution_count": null,
      "metadata": {},
      "outputs": [],
      "source": [
        "# Check if NIM container is running\n",
        "!docker ps | grep nim-server\n"
      ]
    },
    {
      "cell_type": "code",
      "execution_count": null,
      "metadata": {},
      "outputs": [],
      "source": [
        "# View recent container logs\n",
        "!docker logs nim-server --tail 20\n"
      ]
    },
    {
      "cell_type": "code",
      "execution_count": null,
      "metadata": {},
      "outputs": [],
      "source": [
        "# Stop the NIM container (when you're done)\n",
        "!docker stop nim-server\n",
        "!docker rm nim-server\n",
        "print(\"🛑 Trellis NIM container stopped and removed\")\n"
      ]
    },
    {
      "cell_type": "code",
      "execution_count": null,
      "metadata": {},
      "outputs": [],
      "source": [
        "# List generated GLB files\n",
        "!ls -la *.glb\n"
      ]
    }
  ],
  "metadata": {
    "language_info": {
      "name": "python"
    }
  },
  "nbformat": 4,
  "nbformat_minor": 2
}
