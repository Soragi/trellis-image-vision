{
  "cells": [
    {
      "cell_type": "markdown",
      "metadata": {},
      "source": [
        "# 🎨 Trellis NIM - Simple Deployment & Inference\n",
        "\n",
        "A streamlined notebook for deploying NVIDIA Trellis NIM and generating 3D models from text prompts.\n",
        "\n",
        "## Steps:\n",
        "1. **GPU Check** - Verify L40s GPU availability\n",
        "2. **Deploy NIM** - Run the Trellis NIM container\n",
        "3. **Generate 3D Models** - Simple prompt-based generation\n",
        "\n",
        "---\n"
      ]
    },
    {
      "cell_type": "markdown",
      "metadata": {},
      "source": [
        "## Step 1: Check GPU Availability\n",
        "\n",
        "Verify that we have access to an L40s GPU:\n"
      ]
    },
    {
      "cell_type": "code",
      "execution_count": null,
      "metadata": {},
      "outputs": [],
      "source": [
        "!nvidia-smi\n"
      ]
    },
    {
      "cell_type": "markdown",
      "metadata": {},
      "source": [
        "## Step 2: Deploy Trellis NIM Container\n",
        "\n",
        "**⚠️ IMPORTANT**: Replace `<PASTE_API_KEY_HERE>` with your actual NGC API key from https://ngc.nvidia.com/setup/api-key\n"
      ]
    },
    {
      "cell_type": "code",
      "execution_count": null,
      "metadata": {},
      "outputs": [],
      "source": [
        "# Set your NGC API key here\n",
        "import os\n",
        "os.environ['NGC_API_KEY'] = '<PASTE_API_KEY_HERE>'  # Replace with your actual API key\n",
        "\n",
        "# Verify the API key is set\n",
        "if os.environ['NGC_API_KEY'] == '<PASTE_API_KEY_HERE>':\n",
        "    print('❌ Please replace <PASTE_API_KEY_HERE> with your actual NGC API key!')\n",
        "else:\n",
        "    print('✅ NGC API key is set')\n"
      ]
    },
    {
      "cell_type": "code",
      "execution_count": null,
      "metadata": {},
      "outputs": [],
      "source": [
        "# Docker login to NGC registry\n",
        "!echo \"$NGC_API_KEY\" | docker login nvcr.io --username '$oauthtoken' --password-stdin\n"
      ]
    },
    {
      "cell_type": "code",
      "execution_count": null,
      "metadata": {},
      "outputs": [],
      "source": [
        "# Create cache directory\n",
        "!mkdir -p ~/.cache/nim\n",
        "!chmod 777 ~/.cache/nim\n",
        "!echo \"Cache directory created at: ~/.cache/nim\"\n"
      ]
    },
    {
      "cell_type": "code",
      "execution_count": null,
      "metadata": {},
      "outputs": [],
      "source": [
        "# Start Trellis NIM container (this will run in the background)\n",
        "# Note: This may take several minutes to download and start the first time\n",
        "\n",
        "!docker run -d --name=nim-server \\\n",
        "  --runtime=nvidia --gpus='\"device=0\"' \\\n",
        "  -e NGC_API_KEY=$NGC_API_KEY \\\n",
        "  -p 8000:8000 \\\n",
        "  -v ~/.cache/nim:/opt/nim/.cache/ \\\n",
        "  nvcr.io/nim/microsoft/trellis:latest\n",
        "\n",
        "print('🚀 Trellis NIM container started!')\n",
        "print('⏳ Please wait 2-5 minutes for the container to fully initialize...')\n"
      ]
    },
    {
      "cell_type": "code",
      "execution_count": null,
      "metadata": {},
      "outputs": [],
      "source": [
        "# Check container status\n",
        "!docker ps | grep nim-server\n",
        "!echo \"\\n📊 Container logs (last 10 lines):\"\n",
        "!docker logs nim-server --tail 10\n"
      ]
    },
    {
      "cell_type": "markdown",
      "metadata": {},
      "source": [
        "## Step 3: Generate 3D Models\n",
        "\n",
        "Now you can generate 3D models by simply changing the prompt below and running the cell:\n"
      ]
    },
    {
      "cell_type": "code",
      "execution_count": null,
      "metadata": {},
      "outputs": [],
      "source": [
        "# 🎯 CHANGE THIS PROMPT TO GENERATE DIFFERENT 3D MODELS\n",
        "PROMPT = \"A simple coffee shop interior\"\n",
        "\n",
        "# Optional: Change the seed for different variations (0 = random)\n",
        "SEED = 0\n",
        "\n",
        "# Optional: Change output filename\n",
        "OUTPUT_FILE = \"result.glb\"\n",
        "\n",
        "print(f\"🎨 Generating 3D model for: '{PROMPT}'\")\n",
        "print(f\"💾 Output file: {OUTPUT_FILE}\")\n",
        "print(f\"🎲 Seed: {SEED}\")\n",
        "print(\"⏳ Please wait...\")\n"
      ]
    },
    {
      "cell_type": "code",
      "execution_count": null,
      "metadata": {},
      "outputs": [],
      "source": [
        "# First, let's test if the NIM container is responding\n",
        "print(\"🔍 Testing NIM container connectivity...\")\n",
        "health_check = !curl -s http://localhost:8000/health || curl -s http://localhost:8000/ || echo \"CONNECTION_FAILED\"\n",
        "\n",
        "if \"CONNECTION_FAILED\" in ' '.join(health_check):\n",
        "    print(\"❌ Cannot connect to NIM container at http://localhost:8000\")\n",
        "    print(\"💡 Make sure the container is running with: docker ps | grep nim-server\")\n",
        "    print(\"💡 Check container logs with: docker logs nim-server\")\n",
        "else:\n",
        "    print(\"✅ NIM container is responding\")\n",
        "\n",
        "print(\"\\n📡 Sending generation request to Trellis NIM...\")\n",
        "\n",
        "# Use the exact curl command format from your original request\n",
        "import subprocess\n",
        "import json\n",
        "import base64\n",
        "\n",
        "# Create the JSON payload\n",
        "json_payload = json.dumps({\n",
        "    \"prompt\": PROMPT,\n",
        "    \"seed\": SEED\n",
        "})\n",
        "\n",
        "# Execute curl command exactly as specified\n",
        "curl_cmd = [\n",
        "    'curl', '-X', 'POST', 'http://localhost:8000/v1/infer',\n",
        "    '-H', 'Accept: application/json',\n",
        "    '-H', 'Content-Type: application/json',\n",
        "    '-d', json_payload,\n",
        "    '--silent'\n",
        "]\n",
        "\n",
        "print(f\"🎯 Generating: '{PROMPT}'\")\n",
        "print(\"⏳ This may take 1-3 minutes...\")\n",
        "\n",
        "try:\n",
        "    # Run the curl command\n",
        "    result = subprocess.run(curl_cmd, capture_output=True, text=True, timeout=300)\n",
        "    \n",
        "    if result.returncode != 0:\n",
        "        print(f\"❌ Curl command failed with return code: {result.returncode}\")\n",
        "        print(f\"Error: {result.stderr}\")\n",
        "        print(f\"Command: {' '.join(curl_cmd)}\")\n",
        "    else:\n",
        "        response_text = result.stdout.strip()\n",
        "        print(f\"📨 Raw response length: {len(response_text)} characters\")\n",
        "        print(f\"📨 Response preview: {response_text[:300]}...\")\n",
        "        \n",
        "        if not response_text:\n",
        "            print(\"❌ Empty response from server\")\n",
        "        elif response_text.startswith('<!DOCTYPE') or '<html' in response_text:\n",
        "            print(\"❌ Received HTML response instead of JSON - check if container is fully started\")\n",
        "        else:\n",
        "            try:\n",
        "                # Parse JSON response\n",
        "                response_data = json.loads(response_text)\n",
        "                print(\"✅ Valid JSON response received\")\n",
        "                \n",
        "                # Check for artifacts in response\n",
        "                if 'artifacts' in response_data and len(response_data['artifacts']) > 0:\n",
        "                    artifact = response_data['artifacts'][0]\n",
        "                    if 'base64' in artifact:\n",
        "                        base64_data = artifact['base64']\n",
        "                        \n",
        "                        # Decode and save the GLB file\n",
        "                        glb_data = base64.b64decode(base64_data)\n",
        "                        \n",
        "                        with open(OUTPUT_FILE, 'wb') as f:\n",
        "                            f.write(glb_data)\n",
        "                        \n",
        "                        print(f\"✅ SUCCESS! 3D model saved as: {OUTPUT_FILE}\")\n",
        "                        print(f\"📊 File size: {len(glb_data) / 1024:.2f} KB\")\n",
        "                        print(f\"🎯 You can now open {OUTPUT_FILE} in any 3D viewer or Blender!\")\n",
        "                    else:\n",
        "                        print(\"❌ No base64 data in artifact\")\n",
        "                        print(f\"Artifact keys: {list(artifact.keys())}\")\n",
        "                else:\n",
        "                    print(\"❌ No artifacts found in response\")\n",
        "                    print(f\"Response keys: {list(response_data.keys())}\")\n",
        "                    if 'error' in response_data:\n",
        "                        print(f\"Error from server: {response_data['error']}\")\n",
        "                        \n",
        "            except json.JSONDecodeError as e:\n",
        "                print(f\"❌ Failed to parse JSON response: {e}\")\n",
        "                print(f\"Raw response: {response_text}\")\n",
        "\n",
        "except subprocess.TimeoutExpired:\n",
        "    print(\"❌ Request timed out (>5 minutes)\")\n",
        "except Exception as e:\n",
        "    print(f\"❌ Unexpected error: {e}\")\n",
        "    import traceback\n",
        "    traceback.print_exc()\n"
      ]
    },
    {
      "cell_type": "markdown",
      "metadata": {},
      "source": [
        "## 🎉 That's it!\n",
        "\n",
        "### To generate more 3D models:\n",
        "1. Go back to the cell above with `PROMPT = \"...\"`\n",
        "2. Change the prompt to whatever you want\n",
        "3. Run both cells again\n",
        "\n",
        "### Example prompts to try:\n",
        "- `\"A modern chair\"`\n",
        "- `\"A futuristic car\"`\n",
        "- `\"A wooden table\"`\n",
        "- `\"A cozy bedroom\"`\n",
        "- `\"A space station interior\"`\n",
        "\n",
        "### Useful commands:\n"
      ]
    },
    {
      "cell_type": "code",
      "execution_count": null,
      "metadata": {},
      "outputs": [],
      "source": [
        "# Check if NIM container is running\n",
        "!docker ps | grep nim-server\n"
      ]
    },
    {
      "cell_type": "code",
      "execution_count": null,
      "metadata": {},
      "outputs": [],
      "source": [
        "# View recent container logs\n",
        "!docker logs nim-server --tail 20\n"
      ]
    },
    {
      "cell_type": "code",
      "execution_count": null,
      "metadata": {},
      "outputs": [],
      "source": [
        "# Stop the NIM container (when you're done)\n",
        "!docker stop nim-server\n",
        "!docker rm nim-server\n",
        "print(\"🛑 Trellis NIM container stopped and removed\")\n"
      ]
    },
    {
      "cell_type": "code",
      "execution_count": null,
      "metadata": {},
      "outputs": [],
      "source": [
        "# List generated GLB files\n",
        "!ls -la *.glb\n"
      ]
    }
  ],
  "metadata": {
    "language_info": {
      "name": "python"
    }
  },
  "nbformat": 4,
  "nbformat_minor": 2
}
