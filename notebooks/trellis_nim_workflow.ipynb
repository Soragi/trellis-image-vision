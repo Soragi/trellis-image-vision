{
  "cells": [
    {
      "cell_type": "markdown",
      "metadata": {},
      "source": [
        "# NVIDIA Trellis NIM GPU Workflow\n",
        "This notebook submits image-to-3D jobs to the NVIDIA Trellis NIM container and polls for completion.\n",
        "Configure your environment according to [`docs/trellis_nim_setup.md`](../docs/trellis_nim_setup.md) before running.\n"
      ]
    },
    {
      "cell_type": "markdown",
      "metadata": {},
      "source": [
        "## 1. Install runtime dependencies\n",
        "Run the following cell once per environment to ensure the required Python packages are installed.\n"
      ]
    },
    {
      "cell_type": "code",
      "execution_count": null,
      "metadata": {},
      "outputs": [],
      "source": [
        "%pip install -q requests python-dotenv pillow tqdm\n"
      ]
    },
    {
      "cell_type": "markdown",
      "metadata": {},
      "source": [
        "## 2. Configure environment\n",
        "Set the base URL for the Trellis NIM container (default assumes it is available at `http://localhost:8000`).\n",
        "You can optionally provide an API key if your proxy requires one.\n"
      ]
    },
    {
      "cell_type": "code",
      "execution_count": null,
      "metadata": {},
      "outputs": [],
      "source": [
        "import os\n",
        "from dotenv import load_dotenv\n",
        "\n",
        "load_dotenv()\n",
        "\n",
        "NIM_BASE_URL = os.environ.get('NIM_BASE_URL', 'http://localhost:8000')\n",
        "NIM_JOB_PATH = os.environ.get('NIM_JOB_PATH', '/v1/images-to-3d')\n",
        "NIM_API_KEY = os.environ.get('NIM_API_KEY')\n",
        "\n",
        "BASE_URL = NIM_BASE_URL.rstrip('/')\n",
        "JOB_ROOT = f\"{BASE_URL}{NIM_JOB_PATH}\".rstrip('/')\n",
        "SUBMIT_ENDPOINT = f\"{JOB_ROOT}/jobs\"\n",
        "STATUS_ENDPOINT = f\"{JOB_ROOT}/jobs/{{job_id}}\"\n",
        "\n",
        "HEADERS = {'Content-Type': 'application/json'}\n",
        "if NIM_API_KEY:\n",
        "    HEADERS['Authorization'] = f'Bearer {NIM_API_KEY}'\n",
        "\n",
        "print('Submit endpoint:', SUBMIT_ENDPOINT)\n",
        "print('Status endpoint:', STATUS_ENDPOINT)\n"
      ]
    },
    {
      "cell_type": "markdown",
      "metadata": {},
      "source": [
        "## 3. Select input images\n",
        "Provide one or more paths to local image files. They will be Base64-encoded before being sent to NIM.\n"
      ]
    },
    {
      "cell_type": "code",
      "execution_count": null,
      "metadata": {},
      "outputs": [],
      "source": [
        "from pathlib import Path\n",
        "from typing import Sequence\n",
        "import base64\n",
        "\n",
        "IMAGE_PATHS = [\n",
        "    # Example: Path('/data/chair_front.png'),\n",
        "]\n",
        "\n",
        "def encode_images(paths: Sequence[Path]) -> list[str]:\n",
        "    encoded = []\n",
        "    for path in paths:\n",
        "        path = Path(path)\n",
        "        if not path.exists():\n",
        "            raise FileNotFoundError(path)\n",
        "        with path.open('rb') as f:\n",
        "            encoded.append(base64.b64encode(f.read()).decode('utf-8'))\n",
        "    return encoded\n"
      ]
    },
    {
      "cell_type": "markdown",
      "metadata": {},
      "source": [
        "## 4. Submit the Trellis generation job\n"
      ]
    },
    {
      "cell_type": "code",
      "execution_count": null,
      "metadata": {},
      "outputs": [],
      "source": [
        "import json\n",
        "import requests\n",
        "\n",
        "if not IMAGE_PATHS:\n",
        "    raise ValueError('Populate IMAGE_PATHS with at least one image path before submitting.')\n",
        "\n",
        "payload = {\n",
        "    'images': encode_images(IMAGE_PATHS),\n",
        "    'meshFormat': 'glb',\n",
        "    'textureFormat': 'png',\n",
        "}\n",
        "\n",
        "response = requests.post(SUBMIT_ENDPOINT, headers=HEADERS, json=payload, timeout=120)\n",
        "response.raise_for_status()\n",
        "submission = response.json()\n",
        "submission\n"
      ]
    },
    {
      "cell_type": "markdown",
      "metadata": {},
      "source": [
        "## 5. Poll for job completion\n"
      ]
    },
    {
      "cell_type": "code",
      "execution_count": null,
      "metadata": {},
      "outputs": [],
      "source": [
        "import time\n",
        "from tqdm.auto import tqdm\n",
        "\n",
        "def poll_job(job_id: str, interval: float = 5.0, timeout: float = 900.0):\n",
        "    start = time.time()\n",
        "    with tqdm(total=int(timeout // interval), desc='Polling NIM job') as progress:\n",
        "        while True:\n",
        "            if time.time() - start > timeout:\n",
        "                raise TimeoutError('Timed out waiting for NIM job to finish.')\n",
        "            status_response = requests.get(\n",
        "                STATUS_ENDPOINT.format(job_id=job_id),\n",
        "                headers=HEADERS,\n",
        "                timeout=120,\n",
        "            )\n",
        "            status_response.raise_for_status()\n",
        "            data = status_response.json()\n",
        "            progress.set_postfix_str(data.get('status', 'unknown'))\n",
        "            if data.get('message'):\n",
        "                progress.set_description_str(data['message'][:48])\n",
        "            if data.get('status') in {'succeeded', 'failed'}:\n",
        "                return data\n",
        "            time.sleep(interval)\n",
        "            progress.update(1)\n",
        "\n",
        "result = poll_job(submission['jobId'])\n",
        "result\n"
      ]
    },
    {
      "cell_type": "markdown",
      "metadata": {},
      "source": [
        "## 6. Download returned assets (optional)\n"
      ]
    },
    {
      "cell_type": "code",
      "execution_count": null,
      "metadata": {},
      "outputs": [],
      "source": [
        "from pathlib import Path\n",
        "\n",
        "output_dir = Path('nim_outputs')\n",
        "output_dir.mkdir(exist_ok=True)\n",
        "\n",
        "if result.get('assets'):\n",
        "    for asset in result['assets']:\n",
        "        asset_url = asset['url']\n",
        "        extension = Path(asset_url).suffix or '.bin'\n",
        "        target = output_dir / f\"{submission['jobId']}_{asset['type']}{extension}\"\n",
        "        asset_response = requests.get(asset_url, timeout=300)\n",
        "        asset_response.raise_for_status()\n",
        "        target.write_bytes(asset_response.content)\n",
        "        print('Saved', target)\n",
        "else:\n",
        "    print('No assets returned by the job.')\n"
      ]
    }
  ],
  "metadata": {
    "kernelspec": {
      "display_name": "Python 3",
      "language": "python",
      "name": "python3"
    },
    "language_info": {
      "name": "python",
      "version": "3.10"
    }
  },
  "nbformat": 4,
  "nbformat_minor": 5
}