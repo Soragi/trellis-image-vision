{
  "cells": [
    {
      "cell_type": "markdown",
      "metadata": {},
      "source": [
        "# 🚀 Trellis NIM Deployment\n",
        "\n",
        "Simple workflow to deploy Trellis NIM and the UI.\n",
        "\n",
        "## Steps\n",
        "1. Pull Trellis NIM container\n",
        "2. Deploy Lovable UI\n",
        "3. Check status\n",
        "\n",
        "## Prerequisites\n",
        "- Docker with NVIDIA runtime\n",
        "- NVIDIA API Key from https://build.nvidia.com/microsoft/trellis"
      ]
    },
    {
      "cell_type": "markdown",
      "metadata": {},
      "source": [
        "## 1. Setup"
      ]
    },
    {
      "cell_type": "code",
      "execution_count": null,
      "metadata": {},
      "outputs": [],
      "source": [
        "%pip install -q python-dotenv"
      ]
    },
    {
      "cell_type": "code",
      "execution_count": null,
      "metadata": {},
      "outputs": [],
      "source": [
        "import os\n",
        "import subprocess\n",
        "from pathlib import Path\n",
        "from dotenv import set_key\n",
        "\n",
        "PROJECT_ROOT = Path.cwd().parent if Path.cwd().name == 'notebooks' else Path.cwd()\n",
        "os.chdir(PROJECT_ROOT)\n",
        "print(f\"📂 Project: {PROJECT_ROOT}\")"
      ]
    },
    {
      "cell_type": "code",
      "execution_count": null,
      "metadata": {},
      "outputs": [],
      "source": [
        "# Helper to run commands\n",
        "def run(cmd):\n",
        "    return subprocess.run(cmd, shell=True, cwd=PROJECT_ROOT)\n",
        "\n",
        "print(\"✅ Ready\")"
      ]
    },
    {
      "cell_type": "markdown",
      "metadata": {},
      "source": [
        "## 2. Configure API Key\n",
        "\n",
        "Set your NVIDIA API key (get from https://build.nvidia.com/microsoft/trellis)"
      ]
    },
    {
      "cell_type": "code",
      "execution_count": null,
      "metadata": {},
      "outputs": [],
      "source": [
        "# Set your API key here\n",
        "API_KEY = \"your_nvidia_api_key_here\"\n",
        "\n",
        "# Configure environment files\n",
        "if API_KEY != \"your_nvidia_api_key_here\":\n",
        "    import shutil\n",
        "    for src, dst in [('.env.example', '.env'), ('backend/env.example', 'backend/.env')]:\n",
        "        if not (PROJECT_ROOT / dst).exists():\n",
        "            shutil.copy(PROJECT_ROOT / src, PROJECT_ROOT / dst)\n",
        "    \n",
        "    set_key(str(PROJECT_ROOT / '.env'), 'NVIDIA_API_KEY', API_KEY)\n",
        "    set_key(str(PROJECT_ROOT / 'backend/.env'), 'TRELLIS_NIM_API_KEY', API_KEY)\n",
        "    print(\"✅ API key configured\")\n",
        "else:\n",
        "    print(\"⚠️  Set your API_KEY above\")"
      ]
    },
    {
      "cell_type": "markdown",
      "metadata": {},
      "source": [
        "## 3. Pull Trellis NIM Container"
      ]
    },
    {
      "cell_type": "code",
      "execution_count": null,
      "metadata": {},
      "outputs": [],
      "source": [
        "print(\"📥 Pulling Trellis NIM container...\")\n",
        "run(\"docker pull nvcr.io/nim/microsoft/trellis:1.0.0\")\n",
        "print(\"✅ Trellis NIM ready\")"
      ]
    },
    {
      "cell_type": "markdown",
      "metadata": {},
      "source": [
        "## 4. Deploy Application"
      ]
    },
    {
      "cell_type": "code",
      "execution_count": null,
      "metadata": {},
      "outputs": [],
      "source": [
        "print(\"🚀 Starting Trellis NIM and UI...\")\n",
        "run(\"docker-compose up -d\")\n",
        "print(\"✅ Services starting (wait 2-3 minutes for full initialization)\")"
      ]
    },
    {
      "cell_type": "markdown",
      "metadata": {},
      "source": [
        "## 5. Check Status"
      ]
    },
    {
      "cell_type": "code",
      "execution_count": null,
      "metadata": {},
      "outputs": [],
      "source": [
        "run(\"docker-compose ps\")"
      ]
    },
    {
      "cell_type": "markdown",
      "metadata": {},
      "source": [
        "## 6. View Logs (if needed)"
      ]
    },
    {
      "cell_type": "code",
      "execution_count": null,
      "metadata": {},
      "outputs": [],
      "source": [
        "# View all logs\n",
        "run(\"docker-compose logs --tail=50\")\n",
        "\n",
        "# Or view specific service:\n",
        "# run(\"docker-compose logs trellis-nim --tail=50\")\n",
        "# run(\"docker-compose logs backend --tail=50\")\n",
        "# run(\"docker-compose logs frontend --tail=50\")"
      ]
    },
    {
      "cell_type": "markdown",
      "metadata": {},
      "source": [
        "## 7. Access & Management\n",
        "\n",
        "### Access URLs\n",
        "- **UI**: http://localhost:5173\n",
        "- **Backend**: http://localhost:3001\n",
        "- **Trellis NIM**: http://localhost:8080\n",
        "\n",
        "### Management Commands"
      ]
    },
    {
      "cell_type": "code",
      "execution_count": null,
      "metadata": {},
      "outputs": [],
      "source": [
        "# Restart services\n",
        "# run(\"docker-compose restart\")\n",
        "\n",
        "# Stop services\n",
        "# run(\"docker-compose down\")\n",
        "\n",
        "# View GPU usage\n",
        "# run(\"nvidia-smi\")\n",
        "\n",
        "print(\"💡 Uncomment commands above to use them\")"
      ]
    }
  ],
  "metadata": {
    "kernelspec": {
      "display_name": "Python 3",
      "language": "python",
      "name": "python3"
    },
    "language_info": {
      "name": "python",
      "version": "3.8.0"
    }
  },
  "nbformat": 4,
  "nbformat_minor": 2
}
